{
 "cells": [
  {
   "attachments": {},
   "cell_type": "markdown",
   "metadata": {},
   "source": [
    "##__PSEi Companies Data Analysis__\n",
    "\n",
    "In this file we will extract stock data from the companies included in the __Philippines Stock Exchange Index__ (PSEi). These companies are the top 30 listed companies, chosen to represent the general movement of the PSE."
   ]
  },
  {
   "attachments": {},
   "cell_type": "markdown",
   "metadata": {},
   "source": [
    "I have prepared a file called <b>scraper.py</b> in order to extract the current stock data of each companies in the last 30 days. It will create a CSV file named \"psei_data.csv\". It will take some time to scrape the data."
   ]
  },
  {
   "cell_type": "code",
   "execution_count": 1,
   "metadata": {},
   "outputs": [],
   "source": [
    "# %run scraper.py"
   ]
  },
  {
   "cell_type": "code",
   "execution_count": 2,
   "metadata": {},
   "outputs": [],
   "source": [
    "import pandas as pd\n",
    "import numpy as np\n",
    "import matplotlib.pyplot as plt\n",
    "import seaborn as sns\n",
    "%matplotlib inline"
   ]
  },
  {
   "cell_type": "code",
   "execution_count": 3,
   "metadata": {},
   "outputs": [],
   "source": [
    "#importing our CSV file into pandas \n",
    "\n",
    "df = pd.read_csv(\"psei_data_v2.csv\", index_col=False)\n"
   ]
  },
  {
   "attachments": {},
   "cell_type": "markdown",
   "metadata": {},
   "source": [
    "__Data Cleaning and Preparation__\n",
    "> We will prepare our data for analysis, so we have to clean our data to prepare. Here we will correct the data types\n",
    "of columns, replace inconsitent or unreadable text, check for null or duplicate values, etc."
   ]
  },
  {
   "cell_type": "code",
   "execution_count": 4,
   "metadata": {},
   "outputs": [
    {
     "data": {
      "text/html": [
       "<div>\n",
       "<style scoped>\n",
       "    .dataframe tbody tr th:only-of-type {\n",
       "        vertical-align: middle;\n",
       "    }\n",
       "\n",
       "    .dataframe tbody tr th {\n",
       "        vertical-align: top;\n",
       "    }\n",
       "\n",
       "    .dataframe thead th {\n",
       "        text-align: right;\n",
       "    }\n",
       "</style>\n",
       "<table border=\"1\" class=\"dataframe\">\n",
       "  <thead>\n",
       "    <tr style=\"text-align: right;\">\n",
       "      <th></th>\n",
       "      <th>company</th>\n",
       "      <th>date</th>\n",
       "      <th>open</th>\n",
       "      <th>high</th>\n",
       "      <th>low</th>\n",
       "      <th>close</th>\n",
       "      <th>average</th>\n",
       "      <th>volume</th>\n",
       "      <th>value</th>\n",
       "      <th>out_shares</th>\n",
       "      <th>sector</th>\n",
       "      <th>sub_sector</th>\n",
       "    </tr>\n",
       "  </thead>\n",
       "  <tbody>\n",
       "    <tr>\n",
       "      <th>0</th>\n",
       "      <td>AC</td>\n",
       "      <td>Feb 02, 2024</td>\n",
       "      <td>678.00</td>\n",
       "      <td>690.00</td>\n",
       "      <td>672.00</td>\n",
       "      <td>672.00</td>\n",
       "      <td>678.14</td>\n",
       "      <td>238,090</td>\n",
       "      <td>161,458,025.00</td>\n",
       "      <td>619,807,425</td>\n",
       "      <td>HOLDING FIRMS</td>\n",
       "      <td>HOLDING FIRMS</td>\n",
       "    </tr>\n",
       "    <tr>\n",
       "      <th>1</th>\n",
       "      <td>AC</td>\n",
       "      <td>Feb 01, 2024</td>\n",
       "      <td>672.50</td>\n",
       "      <td>679.00</td>\n",
       "      <td>661.50</td>\n",
       "      <td>678.00</td>\n",
       "      <td>672.18</td>\n",
       "      <td>164,310</td>\n",
       "      <td>110,446,420.00</td>\n",
       "      <td>619,807,425</td>\n",
       "      <td>HOLDING FIRMS</td>\n",
       "      <td>HOLDING FIRMS</td>\n",
       "    </tr>\n",
       "    <tr>\n",
       "      <th>2</th>\n",
       "      <td>AC</td>\n",
       "      <td>Jan 31, 2024</td>\n",
       "      <td>661.00</td>\n",
       "      <td>683.50</td>\n",
       "      <td>661.00</td>\n",
       "      <td>679.00</td>\n",
       "      <td>678.87</td>\n",
       "      <td>389,530</td>\n",
       "      <td>264,440,035.00</td>\n",
       "      <td>619,807,425</td>\n",
       "      <td>HOLDING FIRMS</td>\n",
       "      <td>HOLDING FIRMS</td>\n",
       "    </tr>\n",
       "    <tr>\n",
       "      <th>3</th>\n",
       "      <td>AC</td>\n",
       "      <td>Jan 30, 2024</td>\n",
       "      <td>662.00</td>\n",
       "      <td>669.00</td>\n",
       "      <td>660.00</td>\n",
       "      <td>660.00</td>\n",
       "      <td>662.89</td>\n",
       "      <td>264,090</td>\n",
       "      <td>175,063,580.00</td>\n",
       "      <td>619,807,425</td>\n",
       "      <td>HOLDING FIRMS</td>\n",
       "      <td>HOLDING FIRMS</td>\n",
       "    </tr>\n",
       "    <tr>\n",
       "      <th>4</th>\n",
       "      <td>AC</td>\n",
       "      <td>Jan 29, 2024</td>\n",
       "      <td>675.00</td>\n",
       "      <td>681.00</td>\n",
       "      <td>661.00</td>\n",
       "      <td>661.00</td>\n",
       "      <td>664.42</td>\n",
       "      <td>275,040</td>\n",
       "      <td>182,742,380.00</td>\n",
       "      <td>619,807,425</td>\n",
       "      <td>HOLDING FIRMS</td>\n",
       "      <td>HOLDING FIRMS</td>\n",
       "    </tr>\n",
       "  </tbody>\n",
       "</table>\n",
       "</div>"
      ],
      "text/plain": [
       "  company          date    open    high     low   close average   volume  \\\n",
       "0      AC  Feb 02, 2024  678.00  690.00  672.00  672.00  678.14  238,090   \n",
       "1      AC  Feb 01, 2024  672.50  679.00  661.50  678.00  672.18  164,310   \n",
       "2      AC  Jan 31, 2024  661.00  683.50  661.00  679.00  678.87  389,530   \n",
       "3      AC  Jan 30, 2024  662.00  669.00  660.00  660.00  662.89  264,090   \n",
       "4      AC  Jan 29, 2024  675.00  681.00  661.00  661.00  664.42  275,040   \n",
       "\n",
       "            value   out_shares         sector     sub_sector  \n",
       "0  161,458,025.00  619,807,425  HOLDING FIRMS  HOLDING FIRMS  \n",
       "1  110,446,420.00  619,807,425  HOLDING FIRMS  HOLDING FIRMS  \n",
       "2  264,440,035.00  619,807,425  HOLDING FIRMS  HOLDING FIRMS  \n",
       "3  175,063,580.00  619,807,425  HOLDING FIRMS  HOLDING FIRMS  \n",
       "4  182,742,380.00  619,807,425  HOLDING FIRMS  HOLDING FIRMS  "
      ]
     },
     "execution_count": 4,
     "metadata": {},
     "output_type": "execute_result"
    }
   ],
   "source": [
    "#Checking the top of the dataset\n",
    "df.head()"
   ]
  },
  {
   "cell_type": "code",
   "execution_count": 5,
   "metadata": {},
   "outputs": [
    {
     "data": {
      "text/html": [
       "<div>\n",
       "<style scoped>\n",
       "    .dataframe tbody tr th:only-of-type {\n",
       "        vertical-align: middle;\n",
       "    }\n",
       "\n",
       "    .dataframe tbody tr th {\n",
       "        vertical-align: top;\n",
       "    }\n",
       "\n",
       "    .dataframe thead th {\n",
       "        text-align: right;\n",
       "    }\n",
       "</style>\n",
       "<table border=\"1\" class=\"dataframe\">\n",
       "  <thead>\n",
       "    <tr style=\"text-align: right;\">\n",
       "      <th></th>\n",
       "      <th>company</th>\n",
       "      <th>date</th>\n",
       "      <th>open</th>\n",
       "      <th>high</th>\n",
       "      <th>low</th>\n",
       "      <th>close</th>\n",
       "      <th>average</th>\n",
       "      <th>volume</th>\n",
       "      <th>value</th>\n",
       "      <th>out_shares</th>\n",
       "      <th>sector</th>\n",
       "      <th>sub_sector</th>\n",
       "    </tr>\n",
       "  </thead>\n",
       "  <tbody>\n",
       "    <tr>\n",
       "      <th>895</th>\n",
       "      <td>WLCON</td>\n",
       "      <td>Dec 28, 2023</td>\n",
       "      <td>20.60</td>\n",
       "      <td>21.20</td>\n",
       "      <td>20.60</td>\n",
       "      <td>21.20</td>\n",
       "      <td>20.99</td>\n",
       "      <td>76,100</td>\n",
       "      <td>1,597,000.00</td>\n",
       "      <td>4,099,724,116</td>\n",
       "      <td>SERVICES</td>\n",
       "      <td>RETAIL</td>\n",
       "    </tr>\n",
       "    <tr>\n",
       "      <th>896</th>\n",
       "      <td>WLCON</td>\n",
       "      <td>Dec 27, 2023</td>\n",
       "      <td>21.50</td>\n",
       "      <td>21.60</td>\n",
       "      <td>20.60</td>\n",
       "      <td>20.60</td>\n",
       "      <td>21.13</td>\n",
       "      <td>1,993,400</td>\n",
       "      <td>42,122,765.00</td>\n",
       "      <td>4,099,724,116</td>\n",
       "      <td>SERVICES</td>\n",
       "      <td>RETAIL</td>\n",
       "    </tr>\n",
       "    <tr>\n",
       "      <th>897</th>\n",
       "      <td>WLCON</td>\n",
       "      <td>Dec 22, 2023</td>\n",
       "      <td>21.20</td>\n",
       "      <td>21.50</td>\n",
       "      <td>21.00</td>\n",
       "      <td>21.50</td>\n",
       "      <td>21.35</td>\n",
       "      <td>246,300</td>\n",
       "      <td>5,257,770.00</td>\n",
       "      <td>4,099,724,116</td>\n",
       "      <td>SERVICES</td>\n",
       "      <td>RETAIL</td>\n",
       "    </tr>\n",
       "    <tr>\n",
       "      <th>898</th>\n",
       "      <td>WLCON</td>\n",
       "      <td>Dec 21, 2023</td>\n",
       "      <td>21.80</td>\n",
       "      <td>21.80</td>\n",
       "      <td>20.95</td>\n",
       "      <td>21.30</td>\n",
       "      <td>21.26</td>\n",
       "      <td>1,462,800</td>\n",
       "      <td>31,099,935.00</td>\n",
       "      <td>4,099,724,116</td>\n",
       "      <td>SERVICES</td>\n",
       "      <td>RETAIL</td>\n",
       "    </tr>\n",
       "    <tr>\n",
       "      <th>899</th>\n",
       "      <td>WLCON</td>\n",
       "      <td>Dec 20, 2023</td>\n",
       "      <td>20.40</td>\n",
       "      <td>22.40</td>\n",
       "      <td>20.15</td>\n",
       "      <td>22.00</td>\n",
       "      <td>21.63</td>\n",
       "      <td>1,600,700</td>\n",
       "      <td>34,625,925.00</td>\n",
       "      <td>4,099,724,116</td>\n",
       "      <td>SERVICES</td>\n",
       "      <td>RETAIL</td>\n",
       "    </tr>\n",
       "  </tbody>\n",
       "</table>\n",
       "</div>"
      ],
      "text/plain": [
       "    company          date   open   high    low  close average     volume  \\\n",
       "895   WLCON  Dec 28, 2023  20.60  21.20  20.60  21.20   20.99     76,100   \n",
       "896   WLCON  Dec 27, 2023  21.50  21.60  20.60  20.60   21.13  1,993,400   \n",
       "897   WLCON  Dec 22, 2023  21.20  21.50  21.00  21.50   21.35    246,300   \n",
       "898   WLCON  Dec 21, 2023  21.80  21.80  20.95  21.30   21.26  1,462,800   \n",
       "899   WLCON  Dec 20, 2023  20.40  22.40  20.15  22.00   21.63  1,600,700   \n",
       "\n",
       "             value     out_shares    sector sub_sector  \n",
       "895   1,597,000.00  4,099,724,116  SERVICES     RETAIL  \n",
       "896  42,122,765.00  4,099,724,116  SERVICES     RETAIL  \n",
       "897   5,257,770.00  4,099,724,116  SERVICES     RETAIL  \n",
       "898  31,099,935.00  4,099,724,116  SERVICES     RETAIL  \n",
       "899  34,625,925.00  4,099,724,116  SERVICES     RETAIL  "
      ]
     },
     "execution_count": 5,
     "metadata": {},
     "output_type": "execute_result"
    }
   ],
   "source": [
    "#Checking the bottom of the dataset\n",
    "df.tail()"
   ]
  },
  {
   "cell_type": "code",
   "execution_count": 6,
   "metadata": {},
   "outputs": [
    {
     "name": "stdout",
     "output_type": "stream",
     "text": [
      "<class 'pandas.core.frame.DataFrame'>\n",
      "RangeIndex: 900 entries, 0 to 899\n",
      "Data columns (total 12 columns):\n",
      " #   Column      Non-Null Count  Dtype \n",
      "---  ------      --------------  ----- \n",
      " 0   company     900 non-null    object\n",
      " 1   date        900 non-null    object\n",
      " 2   open        900 non-null    object\n",
      " 3   high        900 non-null    object\n",
      " 4   low         900 non-null    object\n",
      " 5   close       900 non-null    object\n",
      " 6   average     900 non-null    object\n",
      " 7   volume      900 non-null    object\n",
      " 8   value       900 non-null    object\n",
      " 9   out_shares  900 non-null    object\n",
      " 10  sector      900 non-null    object\n",
      " 11  sub_sector  900 non-null    object\n",
      "dtypes: object(12)\n",
      "memory usage: 84.5+ KB\n"
     ]
    }
   ],
   "source": [
    "# Quick info on each column\n",
    "df.info()"
   ]
  },
  {
   "cell_type": "code",
   "execution_count": 7,
   "metadata": {},
   "outputs": [
    {
     "data": {
      "text/html": [
       "<div>\n",
       "<style scoped>\n",
       "    .dataframe tbody tr th:only-of-type {\n",
       "        vertical-align: middle;\n",
       "    }\n",
       "\n",
       "    .dataframe tbody tr th {\n",
       "        vertical-align: top;\n",
       "    }\n",
       "\n",
       "    .dataframe thead th {\n",
       "        text-align: right;\n",
       "    }\n",
       "</style>\n",
       "<table border=\"1\" class=\"dataframe\">\n",
       "  <thead>\n",
       "    <tr style=\"text-align: right;\">\n",
       "      <th></th>\n",
       "      <th>company</th>\n",
       "      <th>date</th>\n",
       "      <th>open</th>\n",
       "      <th>high</th>\n",
       "      <th>low</th>\n",
       "      <th>close</th>\n",
       "      <th>average</th>\n",
       "      <th>volume</th>\n",
       "      <th>value</th>\n",
       "      <th>out_shares</th>\n",
       "      <th>sector</th>\n",
       "      <th>sub_sector</th>\n",
       "    </tr>\n",
       "  </thead>\n",
       "  <tbody>\n",
       "    <tr>\n",
       "      <th>count</th>\n",
       "      <td>900</td>\n",
       "      <td>900</td>\n",
       "      <td>900</td>\n",
       "      <td>900</td>\n",
       "      <td>900</td>\n",
       "      <td>900</td>\n",
       "      <td>900</td>\n",
       "      <td>900</td>\n",
       "      <td>900</td>\n",
       "      <td>900</td>\n",
       "      <td>900</td>\n",
       "      <td>900</td>\n",
       "    </tr>\n",
       "    <tr>\n",
       "      <th>unique</th>\n",
       "      <td>30</td>\n",
       "      <td>30</td>\n",
       "      <td>630</td>\n",
       "      <td>620</td>\n",
       "      <td>630</td>\n",
       "      <td>638</td>\n",
       "      <td>807</td>\n",
       "      <td>896</td>\n",
       "      <td>900</td>\n",
       "      <td>30</td>\n",
       "      <td>6</td>\n",
       "      <td>11</td>\n",
       "    </tr>\n",
       "    <tr>\n",
       "      <th>top</th>\n",
       "      <td>AC</td>\n",
       "      <td>Feb 02, 2024</td>\n",
       "      <td>8.50</td>\n",
       "      <td>21.00</td>\n",
       "      <td>33.25</td>\n",
       "      <td>31.00</td>\n",
       "      <td>11.59</td>\n",
       "      <td>195,000</td>\n",
       "      <td>161,458,025.00</td>\n",
       "      <td>619,807,425</td>\n",
       "      <td>HOLDING FIRMS</td>\n",
       "      <td>HOLDING FIRMS</td>\n",
       "    </tr>\n",
       "    <tr>\n",
       "      <th>freq</th>\n",
       "      <td>30</td>\n",
       "      <td>30</td>\n",
       "      <td>6</td>\n",
       "      <td>7</td>\n",
       "      <td>5</td>\n",
       "      <td>9</td>\n",
       "      <td>5</td>\n",
       "      <td>2</td>\n",
       "      <td>1</td>\n",
       "      <td>30</td>\n",
       "      <td>270</td>\n",
       "      <td>270</td>\n",
       "    </tr>\n",
       "  </tbody>\n",
       "</table>\n",
       "</div>"
      ],
      "text/plain": [
       "       company          date  open   high    low  close average   volume  \\\n",
       "count      900           900   900    900    900    900     900      900   \n",
       "unique      30            30   630    620    630    638     807      896   \n",
       "top         AC  Feb 02, 2024  8.50  21.00  33.25  31.00   11.59  195,000   \n",
       "freq        30            30     6      7      5      9       5        2   \n",
       "\n",
       "                 value   out_shares         sector     sub_sector  \n",
       "count              900          900            900            900  \n",
       "unique             900           30              6             11  \n",
       "top     161,458,025.00  619,807,425  HOLDING FIRMS  HOLDING FIRMS  \n",
       "freq                 1           30            270            270  "
      ]
     },
     "execution_count": 7,
     "metadata": {},
     "output_type": "execute_result"
    }
   ],
   "source": [
    "#Descriptive Statistics of the numerical columns\n",
    "df.describe()"
   ]
  },
  {
   "cell_type": "code",
   "execution_count": 8,
   "metadata": {},
   "outputs": [
    {
     "data": {
      "text/plain": [
       "(900, 12)"
      ]
     },
     "execution_count": 8,
     "metadata": {},
     "output_type": "execute_result"
    }
   ],
   "source": [
    "#Checking number of rows and columns\n",
    "\n",
    "df.shape"
   ]
  },
  {
   "cell_type": "code",
   "execution_count": 9,
   "metadata": {},
   "outputs": [
    {
     "data": {
      "text/plain": [
       "0"
      ]
     },
     "execution_count": 9,
     "metadata": {},
     "output_type": "execute_result"
    }
   ],
   "source": [
    "#check if there are any duplicates\n",
    "\n",
    "df.duplicated().sum()"
   ]
  },
  {
   "cell_type": "code",
   "execution_count": 10,
   "metadata": {},
   "outputs": [
    {
     "data": {
      "text/plain": [
       "company       0\n",
       "date          0\n",
       "open          0\n",
       "high          0\n",
       "low           0\n",
       "close         0\n",
       "average       0\n",
       "volume        0\n",
       "value         0\n",
       "out_shares    0\n",
       "sector        0\n",
       "sub_sector    0\n",
       "dtype: int64"
      ]
     },
     "execution_count": 10,
     "metadata": {},
     "output_type": "execute_result"
    }
   ],
   "source": [
    "#check if any column has any null values\n",
    "\n",
    "df.isnull().sum()"
   ]
  },
  {
   "cell_type": "code",
   "execution_count": 11,
   "metadata": {},
   "outputs": [
    {
     "name": "stdout",
     "output_type": "stream",
     "text": [
      "<class 'pandas.core.frame.DataFrame'>\n",
      "RangeIndex: 900 entries, 0 to 899\n",
      "Data columns (total 12 columns):\n",
      " #   Column      Non-Null Count  Dtype  \n",
      "---  ------      --------------  -----  \n",
      " 0   company     900 non-null    object \n",
      " 1   date        900 non-null    object \n",
      " 2   open        900 non-null    float64\n",
      " 3   high        900 non-null    float64\n",
      " 4   low         900 non-null    float64\n",
      " 5   close       900 non-null    float64\n",
      " 6   average     900 non-null    float64\n",
      " 7   volume      900 non-null    float64\n",
      " 8   value       900 non-null    float64\n",
      " 9   out_shares  900 non-null    float64\n",
      " 10  sector      900 non-null    object \n",
      " 11  sub_sector  900 non-null    object \n",
      "dtypes: float64(8), object(4)\n",
      "memory usage: 84.5+ KB\n"
     ]
    }
   ],
   "source": [
    "#based on the df.info() above, all our columns are catergorical, meaning the numerical columms\n",
    "#red as text, we will change all number columns to float64 and date column to datetime\n",
    "num_cols = [\"open\", \"high\", \"low\", \"close\", \"average\", \"volume\", \"value\", 'out_shares']\n",
    "for col in num_cols:\n",
    "    df[col] = df[col].astype('str').str.replace(\",\", \"\")\n",
    "    df[col] = df[col].astype(\"float64\")\n",
    "\n",
    "df.info()"
   ]
  },
  {
   "cell_type": "code",
   "execution_count": 12,
   "metadata": {},
   "outputs": [
    {
     "name": "stdout",
     "output_type": "stream",
     "text": [
      "<class 'pandas.core.frame.DataFrame'>\n",
      "RangeIndex: 900 entries, 0 to 899\n",
      "Data columns (total 12 columns):\n",
      " #   Column      Non-Null Count  Dtype         \n",
      "---  ------      --------------  -----         \n",
      " 0   company     900 non-null    object        \n",
      " 1   date        900 non-null    datetime64[ns]\n",
      " 2   open        900 non-null    float64       \n",
      " 3   high        900 non-null    float64       \n",
      " 4   low         900 non-null    float64       \n",
      " 5   close       900 non-null    float64       \n",
      " 6   average     900 non-null    float64       \n",
      " 7   volume      900 non-null    float64       \n",
      " 8   value       900 non-null    float64       \n",
      " 9   out_shares  900 non-null    float64       \n",
      " 10  sector      900 non-null    object        \n",
      " 11  sub_sector  900 non-null    object        \n",
      "dtypes: datetime64[ns](1), float64(8), object(3)\n",
      "memory usage: 84.5+ KB\n"
     ]
    }
   ],
   "source": [
    "# Change date column to datetime\n",
    "\n",
    "df['date'] = pd.to_datetime(df['date'])\n",
    "\n",
    "df.info()"
   ]
  },
  {
   "cell_type": "code",
   "execution_count": 13,
   "metadata": {},
   "outputs": [
    {
     "name": "stdout",
     "output_type": "stream",
     "text": [
      "<class 'pandas.core.frame.DataFrame'>\n",
      "RangeIndex: 900 entries, 0 to 899\n",
      "Data columns (total 12 columns):\n",
      " #   Column      Non-Null Count  Dtype         \n",
      "---  ------      --------------  -----         \n",
      " 0   company     900 non-null    string        \n",
      " 1   date        900 non-null    datetime64[ns]\n",
      " 2   open        900 non-null    float64       \n",
      " 3   high        900 non-null    float64       \n",
      " 4   low         900 non-null    float64       \n",
      " 5   close       900 non-null    float64       \n",
      " 6   average     900 non-null    float64       \n",
      " 7   volume      900 non-null    float64       \n",
      " 8   value       900 non-null    float64       \n",
      " 9   out_shares  900 non-null    float64       \n",
      " 10  sector      900 non-null    string        \n",
      " 11  sub_sector  900 non-null    string        \n",
      "dtypes: datetime64[ns](1), float64(8), string(3)\n",
      "memory usage: 84.5 KB\n"
     ]
    }
   ],
   "source": [
    "#converting all categorical columns to string data type\n",
    "\n",
    "str_cols = [\"company\", \"sector\", \"sub_sector\"]\n",
    "for col in str_cols:\n",
    "    df[col] = df[col].astype('string')\n",
    "\n",
    "df.info()"
   ]
  },
  {
   "cell_type": "code",
   "execution_count": 14,
   "metadata": {},
   "outputs": [
    {
     "data": {
      "text/plain": [
       "<StringArray>\n",
       "[   'AC',  'ACEN',   'AEV',   'AGI',   'ALI',   'BDO', 'BLOOM',   'BPI',\n",
       "  'CNPF', 'CNVRG',   'DMC',   'EMI',   'GLO', 'GTCAP',   'ICT',   'JFC',\n",
       "   'JGS',   'LTG',   'MBT',   'MER', 'MONDE',  'NIKL', 'PGOLD',   'SCC',\n",
       "    'SM',   'SMC',  'SMPH',   'TEL',   'URC', 'WLCON']\n",
       "Length: 30, dtype: string"
      ]
     },
     "execution_count": 14,
     "metadata": {},
     "output_type": "execute_result"
    }
   ],
   "source": [
    "#Check the uniques entries for each categorical columns\n",
    "\n",
    "df['company'].unique()"
   ]
  },
  {
   "cell_type": "code",
   "execution_count": 15,
   "metadata": {},
   "outputs": [
    {
     "data": {
      "text/plain": [
       "sector\n",
       "HOLDING FIRMS       270\n",
       "INDUSTRIAL          240\n",
       "SERVICES            210\n",
       "FINANCIALS           90\n",
       "PROPERTY             60\n",
       "MINING &amp; OIL     30\n",
       "Name: count, dtype: Int64"
      ]
     },
     "execution_count": 15,
     "metadata": {},
     "output_type": "execute_result"
    }
   ],
   "source": [
    "df['sector'].value_counts()"
   ]
  },
  {
   "cell_type": "code",
   "execution_count": 16,
   "metadata": {},
   "outputs": [
    {
     "data": {
      "text/plain": [
       "sub_sector\n",
       "HOLDING FIRMS                       270\n",
       "FOOD, BEVERAGE &amp; TOBACCO        150\n",
       "ELEC., ENERGY, POWER &amp; WATER     90\n",
       "BANKS                                90\n",
       "PROPERTY                             60\n",
       "TELECOMMUNICATIONS                   60\n",
       "RETAIL                               60\n",
       "CASINOS &amp; GAMING                 30\n",
       "INFORMATION TECHNOLOGY               30\n",
       "TRANSPORTATION SERVICES              30\n",
       "MINING                               30\n",
       "Name: count, dtype: Int64"
      ]
     },
     "execution_count": 16,
     "metadata": {},
     "output_type": "execute_result"
    }
   ],
   "source": [
    "df['sub_sector'].value_counts()"
   ]
  },
  {
   "cell_type": "code",
   "execution_count": 17,
   "metadata": {},
   "outputs": [
    {
     "data": {
      "text/plain": [
       "sub_sector\n",
       "HOLDING FIRMS                     270\n",
       "FOOD, BEVERAGE AND TOBACCO        150\n",
       "ELEC., ENERGY, POWER AND WATER     90\n",
       "BANKS                              90\n",
       "PROPERTY                           60\n",
       "TELECOMMUNICATIONS                 60\n",
       "RETAIL                             60\n",
       "CASINOS AND GAMING                 30\n",
       "INFORMATION TECHNOLOGY             30\n",
       "TRANSPORTATION SERVICES            30\n",
       "MINING                             30\n",
       "Name: count, dtype: Int64"
      ]
     },
     "execution_count": 17,
     "metadata": {},
     "output_type": "execute_result"
    }
   ],
   "source": [
    "# We will replace that '&amp' with \"AND\" to make it readable\n",
    "\n",
    "df['sub_sector'] = df['sub_sector'].str.replace('&amp;', \"AND\")\n",
    "df['sector'] = df['sector'].str.replace('&amp;', \"AND\")\n",
    "df['sub_sector'].value_counts()"
   ]
  },
  {
   "cell_type": "code",
   "execution_count": 18,
   "metadata": {},
   "outputs": [
    {
     "data": {
      "text/plain": [
       "sector\n",
       "HOLDING FIRMS     270\n",
       "INDUSTRIAL        240\n",
       "SERVICES          210\n",
       "FINANCIALS         90\n",
       "PROPERTY           60\n",
       "MINING AND OIL     30\n",
       "Name: count, dtype: Int64"
      ]
     },
     "execution_count": 18,
     "metadata": {},
     "output_type": "execute_result"
    }
   ],
   "source": [
    "df['sector'].value_counts()"
   ]
  },
  {
   "attachments": {},
   "cell_type": "markdown",
   "metadata": {},
   "source": [
    "__Exploratory Data Analysis__\n",
    "> We will try to get insights in our current data, here we can try to answer some question that we are\n",
    "curious about. I have listed some question that maybe we could answer with our dataset.\n",
    "- What companies have the highest market cap(valuation) in the PSEi companies?\n",
    "- What sectors and sub_sectors are the PSEi companies are in?\n",
    "- What companies had the greatest increase in value vs last month?\n",
    "- What companies had beaten the PSEi performance for the month (Dec 26 - Jan 26)?"
   ]
  },
  {
   "attachments": {},
   "cell_type": "markdown",
   "metadata": {},
   "source": [
    "__Market Cap Analysis__\n",
    "> What companies have the highest market cap(valuation) in the PSEi companies? Companies with larger market capitalization are often safer investments as they represent more established companies with generally longer history in business. For our market capitalization formula, we will use the closing price times the outstanding shares of the company"
   ]
  },
  {
   "cell_type": "code",
   "execution_count": 19,
   "metadata": {},
   "outputs": [],
   "source": [
    "df[\"market_cap\"] = df[\"close\"] * df[\"out_shares\"]\n",
    "pd.options.display.float_format = '{:,.2f}'.format"
   ]
  },
  {
   "cell_type": "code",
   "execution_count": 20,
   "metadata": {},
   "outputs": [
    {
     "data": {
      "text/html": [
       "<div>\n",
       "<style scoped>\n",
       "    .dataframe tbody tr th:only-of-type {\n",
       "        vertical-align: middle;\n",
       "    }\n",
       "\n",
       "    .dataframe tbody tr th {\n",
       "        vertical-align: top;\n",
       "    }\n",
       "\n",
       "    .dataframe thead th {\n",
       "        text-align: right;\n",
       "    }\n",
       "</style>\n",
       "<table border=\"1\" class=\"dataframe\">\n",
       "  <thead>\n",
       "    <tr style=\"text-align: right;\">\n",
       "      <th></th>\n",
       "      <th>company</th>\n",
       "      <th>date</th>\n",
       "      <th>open</th>\n",
       "      <th>high</th>\n",
       "      <th>low</th>\n",
       "      <th>close</th>\n",
       "      <th>average</th>\n",
       "      <th>volume</th>\n",
       "      <th>value</th>\n",
       "      <th>out_shares</th>\n",
       "      <th>sector</th>\n",
       "      <th>sub_sector</th>\n",
       "      <th>market_cap</th>\n",
       "    </tr>\n",
       "  </thead>\n",
       "  <tbody>\n",
       "    <tr>\n",
       "      <th>0</th>\n",
       "      <td>AC</td>\n",
       "      <td>2024-02-02</td>\n",
       "      <td>678.00</td>\n",
       "      <td>690.00</td>\n",
       "      <td>672.00</td>\n",
       "      <td>672.00</td>\n",
       "      <td>678.14</td>\n",
       "      <td>238,090.00</td>\n",
       "      <td>161,458,025.00</td>\n",
       "      <td>619,807,425.00</td>\n",
       "      <td>HOLDING FIRMS</td>\n",
       "      <td>HOLDING FIRMS</td>\n",
       "      <td>416,510,589,600.00</td>\n",
       "    </tr>\n",
       "    <tr>\n",
       "      <th>30</th>\n",
       "      <td>ACEN</td>\n",
       "      <td>2024-02-02</td>\n",
       "      <td>4.25</td>\n",
       "      <td>4.38</td>\n",
       "      <td>4.25</td>\n",
       "      <td>4.35</td>\n",
       "      <td>4.34</td>\n",
       "      <td>22,564,000.00</td>\n",
       "      <td>97,919,190.00</td>\n",
       "      <td>39,677,394,773.00</td>\n",
       "      <td>INDUSTRIAL</td>\n",
       "      <td>ELEC., ENERGY, POWER AND WATER</td>\n",
       "      <td>172,596,667,262.55</td>\n",
       "    </tr>\n",
       "    <tr>\n",
       "      <th>60</th>\n",
       "      <td>AEV</td>\n",
       "      <td>2024-02-02</td>\n",
       "      <td>48.30</td>\n",
       "      <td>48.90</td>\n",
       "      <td>47.50</td>\n",
       "      <td>47.50</td>\n",
       "      <td>47.56</td>\n",
       "      <td>2,253,000.00</td>\n",
       "      <td>107,150,625.00</td>\n",
       "      <td>5,619,785,757.00</td>\n",
       "      <td>HOLDING FIRMS</td>\n",
       "      <td>HOLDING FIRMS</td>\n",
       "      <td>266,939,823,457.50</td>\n",
       "    </tr>\n",
       "    <tr>\n",
       "      <th>90</th>\n",
       "      <td>AGI</td>\n",
       "      <td>2024-02-02</td>\n",
       "      <td>11.46</td>\n",
       "      <td>11.54</td>\n",
       "      <td>11.38</td>\n",
       "      <td>11.54</td>\n",
       "      <td>11.53</td>\n",
       "      <td>4,200,500.00</td>\n",
       "      <td>48,448,272.00</td>\n",
       "      <td>8,982,039,179.00</td>\n",
       "      <td>HOLDING FIRMS</td>\n",
       "      <td>HOLDING FIRMS</td>\n",
       "      <td>103,652,732,125.66</td>\n",
       "    </tr>\n",
       "    <tr>\n",
       "      <th>120</th>\n",
       "      <td>ALI</td>\n",
       "      <td>2024-02-02</td>\n",
       "      <td>33.30</td>\n",
       "      <td>34.25</td>\n",
       "      <td>33.20</td>\n",
       "      <td>33.50</td>\n",
       "      <td>33.68</td>\n",
       "      <td>5,462,600.00</td>\n",
       "      <td>183,977,740.00</td>\n",
       "      <td>14,942,175,713.00</td>\n",
       "      <td>PROPERTY</td>\n",
       "      <td>PROPERTY</td>\n",
       "      <td>500,562,886,385.50</td>\n",
       "    </tr>\n",
       "  </tbody>\n",
       "</table>\n",
       "</div>"
      ],
      "text/plain": [
       "    company       date   open   high    low  close  average        volume  \\\n",
       "0        AC 2024-02-02 678.00 690.00 672.00 672.00   678.14    238,090.00   \n",
       "30     ACEN 2024-02-02   4.25   4.38   4.25   4.35     4.34 22,564,000.00   \n",
       "60      AEV 2024-02-02  48.30  48.90  47.50  47.50    47.56  2,253,000.00   \n",
       "90      AGI 2024-02-02  11.46  11.54  11.38  11.54    11.53  4,200,500.00   \n",
       "120     ALI 2024-02-02  33.30  34.25  33.20  33.50    33.68  5,462,600.00   \n",
       "\n",
       "             value        out_shares         sector  \\\n",
       "0   161,458,025.00    619,807,425.00  HOLDING FIRMS   \n",
       "30   97,919,190.00 39,677,394,773.00     INDUSTRIAL   \n",
       "60  107,150,625.00  5,619,785,757.00  HOLDING FIRMS   \n",
       "90   48,448,272.00  8,982,039,179.00  HOLDING FIRMS   \n",
       "120 183,977,740.00 14,942,175,713.00       PROPERTY   \n",
       "\n",
       "                         sub_sector         market_cap  \n",
       "0                     HOLDING FIRMS 416,510,589,600.00  \n",
       "30   ELEC., ENERGY, POWER AND WATER 172,596,667,262.55  \n",
       "60                    HOLDING FIRMS 266,939,823,457.50  \n",
       "90                    HOLDING FIRMS 103,652,732,125.66  \n",
       "120                        PROPERTY 500,562,886,385.50  "
      ]
     },
     "execution_count": 20,
     "metadata": {},
     "output_type": "execute_result"
    }
   ],
   "source": [
    "df_top_ten = df.loc[(df.date == \"2024-02-02\")]\n",
    "df_top_ten.head()"
   ]
  },
  {
   "cell_type": "code",
   "execution_count": 21,
   "metadata": {},
   "outputs": [
    {
     "data": {
      "text/html": [
       "<div>\n",
       "<style scoped>\n",
       "    .dataframe tbody tr th:only-of-type {\n",
       "        vertical-align: middle;\n",
       "    }\n",
       "\n",
       "    .dataframe tbody tr th {\n",
       "        vertical-align: top;\n",
       "    }\n",
       "\n",
       "    .dataframe thead th {\n",
       "        text-align: right;\n",
       "    }\n",
       "</style>\n",
       "<table border=\"1\" class=\"dataframe\">\n",
       "  <thead>\n",
       "    <tr style=\"text-align: right;\">\n",
       "      <th></th>\n",
       "      <th>company</th>\n",
       "      <th>market_cap</th>\n",
       "    </tr>\n",
       "  </thead>\n",
       "  <tbody>\n",
       "    <tr>\n",
       "      <th>720</th>\n",
       "      <td>SM</td>\n",
       "      <td>1,116,929,349,212.00</td>\n",
       "    </tr>\n",
       "    <tr>\n",
       "      <th>780</th>\n",
       "      <td>SMPH</td>\n",
       "      <td>970,342,184,918.40</td>\n",
       "    </tr>\n",
       "    <tr>\n",
       "      <th>150</th>\n",
       "      <td>BDO</td>\n",
       "      <td>782,351,059,644.00</td>\n",
       "    </tr>\n",
       "    <tr>\n",
       "      <th>210</th>\n",
       "      <td>BPI</td>\n",
       "      <td>610,593,268,956.30</td>\n",
       "    </tr>\n",
       "    <tr>\n",
       "      <th>420</th>\n",
       "      <td>ICT</td>\n",
       "      <td>503,933,173,544.00</td>\n",
       "    </tr>\n",
       "    <tr>\n",
       "      <th>120</th>\n",
       "      <td>ALI</td>\n",
       "      <td>500,562,886,385.50</td>\n",
       "    </tr>\n",
       "    <tr>\n",
       "      <th>0</th>\n",
       "      <td>AC</td>\n",
       "      <td>416,510,589,600.00</td>\n",
       "    </tr>\n",
       "    <tr>\n",
       "      <th>570</th>\n",
       "      <td>MER</td>\n",
       "      <td>409,136,829,915.00</td>\n",
       "    </tr>\n",
       "    <tr>\n",
       "      <th>330</th>\n",
       "      <td>EMI</td>\n",
       "      <td>322,597,660,379.00</td>\n",
       "    </tr>\n",
       "    <tr>\n",
       "      <th>480</th>\n",
       "      <td>JGS</td>\n",
       "      <td>297,078,854,491.00</td>\n",
       "    </tr>\n",
       "  </tbody>\n",
       "</table>\n",
       "</div>"
      ],
      "text/plain": [
       "    company           market_cap\n",
       "720      SM 1,116,929,349,212.00\n",
       "780    SMPH   970,342,184,918.40\n",
       "150     BDO   782,351,059,644.00\n",
       "210     BPI   610,593,268,956.30\n",
       "420     ICT   503,933,173,544.00\n",
       "120     ALI   500,562,886,385.50\n",
       "0        AC   416,510,589,600.00\n",
       "570     MER   409,136,829,915.00\n",
       "330     EMI   322,597,660,379.00\n",
       "480     JGS   297,078,854,491.00"
      ]
     },
     "execution_count": 21,
     "metadata": {},
     "output_type": "execute_result"
    }
   ],
   "source": [
    "#Check the top ten of the PSEi Market Cap\n",
    "df_top_ten.sort_values(\"market_cap\", ascending=False).head(10)[[\"company\", \"market_cap\"]]"
   ]
  },
  {
   "cell_type": "code",
   "execution_count": 22,
   "metadata": {},
   "outputs": [
    {
     "data": {
      "text/html": [
       "<div>\n",
       "<style scoped>\n",
       "    .dataframe tbody tr th:only-of-type {\n",
       "        vertical-align: middle;\n",
       "    }\n",
       "\n",
       "    .dataframe tbody tr th {\n",
       "        vertical-align: top;\n",
       "    }\n",
       "\n",
       "    .dataframe thead th {\n",
       "        text-align: right;\n",
       "    }\n",
       "</style>\n",
       "<table border=\"1\" class=\"dataframe\">\n",
       "  <thead>\n",
       "    <tr style=\"text-align: right;\">\n",
       "      <th></th>\n",
       "      <th>company</th>\n",
       "      <th>market_cap</th>\n",
       "    </tr>\n",
       "  </thead>\n",
       "  <tbody>\n",
       "    <tr>\n",
       "      <th>390</th>\n",
       "      <td>GTCAP</td>\n",
       "      <td>141,549,615,952.50</td>\n",
       "    </tr>\n",
       "    <tr>\n",
       "      <th>690</th>\n",
       "      <td>SCC</td>\n",
       "      <td>132,617,085,744.00</td>\n",
       "    </tr>\n",
       "    <tr>\n",
       "      <th>180</th>\n",
       "      <td>BLOOM</td>\n",
       "      <td>129,620,375,319.96</td>\n",
       "    </tr>\n",
       "    <tr>\n",
       "      <th>240</th>\n",
       "      <td>CNPF</td>\n",
       "      <td>120,791,018,089.50</td>\n",
       "    </tr>\n",
       "    <tr>\n",
       "      <th>90</th>\n",
       "      <td>AGI</td>\n",
       "      <td>103,652,732,125.66</td>\n",
       "    </tr>\n",
       "    <tr>\n",
       "      <th>510</th>\n",
       "      <td>LTG</td>\n",
       "      <td>102,803,194,445.50</td>\n",
       "    </tr>\n",
       "    <tr>\n",
       "      <th>870</th>\n",
       "      <td>WLCON</td>\n",
       "      <td>88,349,054,699.80</td>\n",
       "    </tr>\n",
       "    <tr>\n",
       "      <th>660</th>\n",
       "      <td>PGOLD</td>\n",
       "      <td>78,915,770,651.00</td>\n",
       "    </tr>\n",
       "    <tr>\n",
       "      <th>270</th>\n",
       "      <td>CNVRG</td>\n",
       "      <td>68,887,112,618.28</td>\n",
       "    </tr>\n",
       "    <tr>\n",
       "      <th>630</th>\n",
       "      <td>NIKL</td>\n",
       "      <td>66,451,466,698.38</td>\n",
       "    </tr>\n",
       "  </tbody>\n",
       "</table>\n",
       "</div>"
      ],
      "text/plain": [
       "    company         market_cap\n",
       "390   GTCAP 141,549,615,952.50\n",
       "690     SCC 132,617,085,744.00\n",
       "180   BLOOM 129,620,375,319.96\n",
       "240    CNPF 120,791,018,089.50\n",
       "90      AGI 103,652,732,125.66\n",
       "510     LTG 102,803,194,445.50\n",
       "870   WLCON  88,349,054,699.80\n",
       "660   PGOLD  78,915,770,651.00\n",
       "270   CNVRG  68,887,112,618.28\n",
       "630    NIKL  66,451,466,698.38"
      ]
     },
     "execution_count": 22,
     "metadata": {},
     "output_type": "execute_result"
    }
   ],
   "source": [
    "#Check the lowest ten of the PSEi Market Cap\n",
    "df_top_ten.sort_values(\"market_cap\", ascending=False).tail(10)[[\"company\", \"market_cap\"]]"
   ]
  },
  {
   "attachments": {},
   "cell_type": "markdown",
   "metadata": {},
   "source": [
    "__Industry Analysis__\n",
    "> What sectors and sub_sectors are the PSEi companies are in? We want to see what sectors were companies are included in as we want to diversify our investment to different sectors as it can actually improve your potential returns and stabilize your results"
   ]
  },
  {
   "cell_type": "code",
   "execution_count": 23,
   "metadata": {},
   "outputs": [
    {
     "data": {
      "text/plain": [
       "sector\n",
       "HOLDING FIRMS     270\n",
       "INDUSTRIAL        240\n",
       "SERVICES          210\n",
       "FINANCIALS         90\n",
       "PROPERTY           60\n",
       "MINING AND OIL     30\n",
       "Name: count, dtype: Int64"
      ]
     },
     "execution_count": 23,
     "metadata": {},
     "output_type": "execute_result"
    }
   ],
   "source": [
    "df.sector.value_counts()"
   ]
  },
  {
   "cell_type": "code",
   "execution_count": 24,
   "metadata": {},
   "outputs": [
    {
     "data": {
      "text/plain": [
       "sub_sector\n",
       "HOLDING FIRMS                    9.00\n",
       "FOOD, BEVERAGE AND TOBACCO       5.00\n",
       "ELEC., ENERGY, POWER AND WATER   3.00\n",
       "BANKS                            3.00\n",
       "PROPERTY                         2.00\n",
       "TELECOMMUNICATIONS               2.00\n",
       "RETAIL                           2.00\n",
       "CASINOS AND GAMING               1.00\n",
       "INFORMATION TECHNOLOGY           1.00\n",
       "TRANSPORTATION SERVICES          1.00\n",
       "MINING                           1.00\n",
       "Name: count, dtype: Float64"
      ]
     },
     "execution_count": 24,
     "metadata": {},
     "output_type": "execute_result"
    }
   ],
   "source": [
    "df_sectors = df.sub_sector.value_counts()/30\n",
    "df.sub_sector.value_counts()/30"
   ]
  },
  {
   "attachments": {},
   "cell_type": "markdown",
   "metadata": {},
   "source": [
    "__Stock Performance Analysis__\n",
    "> What companies had the greatest increase in value vs last month? We want to see what companies were <br>\n",
    "bullish from last month up to now, here we'll see what companies were performing and would be ideal <br>\n",
    "stock for investment."
   ]
  },
  {
   "cell_type": "code",
   "execution_count": 25,
   "metadata": {},
   "outputs": [],
   "source": [
    "df_stock_today = df[df.date == \"2024-02-02\"].reset_index(drop=True)\n",
    "df_stock_lm_valuation = df[df.date == \"2024-01-02\"].reset_index(drop=True)\n"
   ]
  },
  {
   "cell_type": "code",
   "execution_count": 26,
   "metadata": {},
   "outputs": [
    {
     "data": {
      "text/plain": [
       "5     0.16\n",
       "6     0.13\n",
       "9     0.12\n",
       "20    0.11\n",
       "7     0.10\n",
       "13    0.10\n",
       "8     0.10\n",
       "10    0.10\n",
       "18    0.07\n",
       "26    0.04\n",
       "24    0.04\n",
       "17    0.04\n",
       "3     0.03\n",
       "23    0.03\n",
       "15    0.02\n",
       "22    0.01\n",
       "27    0.01\n",
       "1     0.01\n",
       "12   -0.00\n",
       "16   -0.01\n",
       "25   -0.02\n",
       "29   -0.02\n",
       "11   -0.02\n",
       "14   -0.03\n",
       "4    -0.03\n",
       "2    -0.05\n",
       "0    -0.06\n",
       "21   -0.09\n",
       "19   -0.09\n",
       "28   -0.11\n",
       "Name: vs_last_month, dtype: float64"
      ]
     },
     "execution_count": 26,
     "metadata": {},
     "output_type": "execute_result"
    }
   ],
   "source": [
    "df_stock_today['vs_last_month'] = (df_stock_today[\"close\"] - df_stock_lm_valuation[\"close\"])/df_stock_lm_valuation[\"close\"] \n",
    "df_stock_today.vs_last_month.round(2).sort_values(ascending=False)"
   ]
  },
  {
   "cell_type": "code",
   "execution_count": 27,
   "metadata": {},
   "outputs": [
    {
     "name": "stderr",
     "output_type": "stream",
     "text": [
      "C:\\Users\\Administrator\\AppData\\Local\\Temp\\ipykernel_3152\\2969861299.py:4: UserWarning: set_ticklabels() should only be used with a fixed number of ticks, i.e. after set_ticks() or using a FixedLocator.\n",
      "  g.set_yticklabels(ylabels)\n"
     ]
    },
    {
     "data": {
      "text/plain": [
       "[Text(0, -0.15000000000000002, '-0.15%'),\n",
       " Text(0, -0.10000000000000002, '-0.10%'),\n",
       " Text(0, -0.05000000000000002, '-0.05%'),\n",
       " Text(0, 0.0, '0.00%'),\n",
       " Text(0, 0.04999999999999999, '0.05%'),\n",
       " Text(0, 0.09999999999999998, '0.10%'),\n",
       " Text(0, 0.15000000000000002, '0.15%'),\n",
       " Text(0, 0.2, '0.20%')]"
      ]
     },
     "execution_count": 27,
     "metadata": {},
     "output_type": "execute_result"
    },
    {
     "data": {
      "image/png": "[encoded data removed]",
      "text/plain": [
       "<Figure size 640x480 with 1 Axes>"
      ]
     },
     "metadata": {},
     "output_type": "display_data"
    }
   ],
   "source": [
    "g = sns.barplot(data=df_stock_today, x=\"company\", y=\"vs_last_month\", hue=\"company\")\n",
    "plt.xticks(rotation=90)\n",
    "ylabels = ['{:.2f}'.format(x) + '%' for x in g.get_yticks()]\n",
    "g.set_yticklabels(ylabels)\n"
   ]
  },
  {
   "attachments": {},
   "cell_type": "markdown",
   "metadata": {},
   "source": [
    "__VS PSEi Performance Analysis__\n",
    "> What companies has beaten the PSEi performance for the month? Beating the PSEi is a big indicator of\n",
    "performing stocks. Beating the PSEi technically means beating the top companies of the Philippines and that's a big sign of succes for stock picking"
   ]
  },
  {
   "cell_type": "code",
   "execution_count": 28,
   "metadata": {},
   "outputs": [
    {
     "name": "stdout",
     "output_type": "stream",
     "text": [
      "2.34%\n"
     ]
    }
   ],
   "source": [
    "psei_jan_02 = 6554.04\n",
    "psei_feb_02 = 6707.25\n",
    "print(str(round(((psei_feb_02 - psei_jan_02)/psei_jan_02)*100, 2)) + \"%\")"
   ]
  },
  {
   "cell_type": "code",
   "execution_count": 29,
   "metadata": {},
   "outputs": [],
   "source": [
    "psei_perf = 0.0234\n",
    "psei_row = pd.DataFrame({'company': \"PSEi\", 'date': df_stock_today.head(1).date, 'open': 0, 'high': 0, 'low': 0, 'close': 0, 'average': 0, 'volume': 0,\n",
    "       'value': 0, 'sector': \"None\", 'sub_sector': \"None\", 'vs_last_month' : psei_perf})\n",
    "df_stock_today = pd.concat([df_stock_today, psei_row])\n"
   ]
  },
  {
   "cell_type": "code",
   "execution_count": 30,
   "metadata": {},
   "outputs": [
    {
     "data": {
      "text/html": [
       "<div>\n",
       "<style scoped>\n",
       "    .dataframe tbody tr th:only-of-type {\n",
       "        vertical-align: middle;\n",
       "    }\n",
       "\n",
       "    .dataframe tbody tr th {\n",
       "        vertical-align: top;\n",
       "    }\n",
       "\n",
       "    .dataframe thead th {\n",
       "        text-align: right;\n",
       "    }\n",
       "</style>\n",
       "<table border=\"1\" class=\"dataframe\">\n",
       "  <thead>\n",
       "    <tr style=\"text-align: right;\">\n",
       "      <th></th>\n",
       "      <th>company</th>\n",
       "      <th>date</th>\n",
       "      <th>open</th>\n",
       "      <th>high</th>\n",
       "      <th>low</th>\n",
       "      <th>close</th>\n",
       "      <th>average</th>\n",
       "      <th>volume</th>\n",
       "      <th>value</th>\n",
       "      <th>out_shares</th>\n",
       "      <th>sector</th>\n",
       "      <th>sub_sector</th>\n",
       "      <th>market_cap</th>\n",
       "      <th>vs_last_month</th>\n",
       "    </tr>\n",
       "  </thead>\n",
       "  <tbody>\n",
       "    <tr>\n",
       "      <th>26</th>\n",
       "      <td>SMPH</td>\n",
       "      <td>2024-02-02</td>\n",
       "      <td>34.00</td>\n",
       "      <td>34.60</td>\n",
       "      <td>33.60</td>\n",
       "      <td>33.60</td>\n",
       "      <td>33.87</td>\n",
       "      <td>9,709,000.00</td>\n",
       "      <td>328,865,505.00</td>\n",
       "      <td>28,879,231,694.00</td>\n",
       "      <td>PROPERTY</td>\n",
       "      <td>PROPERTY</td>\n",
       "      <td>970,342,184,918.40</td>\n",
       "      <td>0.04</td>\n",
       "    </tr>\n",
       "    <tr>\n",
       "      <th>27</th>\n",
       "      <td>TEL</td>\n",
       "      <td>2024-02-02</td>\n",
       "      <td>1,260.00</td>\n",
       "      <td>1,286.00</td>\n",
       "      <td>1,260.00</td>\n",
       "      <td>1,286.00</td>\n",
       "      <td>1,281.39</td>\n",
       "      <td>44,990.00</td>\n",
       "      <td>57,649,770.00</td>\n",
       "      <td>216,055,775.00</td>\n",
       "      <td>SERVICES</td>\n",
       "      <td>TELECOMMUNICATIONS</td>\n",
       "      <td>277,847,726,650.00</td>\n",
       "      <td>0.01</td>\n",
       "    </tr>\n",
       "    <tr>\n",
       "      <th>28</th>\n",
       "      <td>URC</td>\n",
       "      <td>2024-02-02</td>\n",
       "      <td>110.90</td>\n",
       "      <td>111.70</td>\n",
       "      <td>110.70</td>\n",
       "      <td>110.90</td>\n",
       "      <td>111.05</td>\n",
       "      <td>4,235,680.00</td>\n",
       "      <td>470,359,505.00</td>\n",
       "      <td>2,176,667,968.00</td>\n",
       "      <td>INDUSTRIAL</td>\n",
       "      <td>FOOD, BEVERAGE AND TOBACCO</td>\n",
       "      <td>241,392,477,651.20</td>\n",
       "      <td>-0.11</td>\n",
       "    </tr>\n",
       "    <tr>\n",
       "      <th>29</th>\n",
       "      <td>WLCON</td>\n",
       "      <td>2024-02-02</td>\n",
       "      <td>21.55</td>\n",
       "      <td>22.00</td>\n",
       "      <td>21.50</td>\n",
       "      <td>21.55</td>\n",
       "      <td>21.72</td>\n",
       "      <td>1,215,700.00</td>\n",
       "      <td>26,401,505.00</td>\n",
       "      <td>4,099,724,116.00</td>\n",
       "      <td>SERVICES</td>\n",
       "      <td>RETAIL</td>\n",
       "      <td>88,349,054,699.80</td>\n",
       "      <td>-0.02</td>\n",
       "    </tr>\n",
       "    <tr>\n",
       "      <th>0</th>\n",
       "      <td>PSEi</td>\n",
       "      <td>2024-02-02</td>\n",
       "      <td>0.00</td>\n",
       "      <td>0.00</td>\n",
       "      <td>0.00</td>\n",
       "      <td>0.00</td>\n",
       "      <td>0.00</td>\n",
       "      <td>0.00</td>\n",
       "      <td>0.00</td>\n",
       "      <td>NaN</td>\n",
       "      <td>None</td>\n",
       "      <td>None</td>\n",
       "      <td>NaN</td>\n",
       "      <td>0.02</td>\n",
       "    </tr>\n",
       "  </tbody>\n",
       "</table>\n",
       "</div>"
      ],
      "text/plain": [
       "   company       date     open     high      low    close  average  \\\n",
       "26    SMPH 2024-02-02    34.00    34.60    33.60    33.60    33.87   \n",
       "27     TEL 2024-02-02 1,260.00 1,286.00 1,260.00 1,286.00 1,281.39   \n",
       "28     URC 2024-02-02   110.90   111.70   110.70   110.90   111.05   \n",
       "29   WLCON 2024-02-02    21.55    22.00    21.50    21.55    21.72   \n",
       "0     PSEi 2024-02-02     0.00     0.00     0.00     0.00     0.00   \n",
       "\n",
       "         volume          value        out_shares      sector  \\\n",
       "26 9,709,000.00 328,865,505.00 28,879,231,694.00    PROPERTY   \n",
       "27    44,990.00  57,649,770.00    216,055,775.00    SERVICES   \n",
       "28 4,235,680.00 470,359,505.00  2,176,667,968.00  INDUSTRIAL   \n",
       "29 1,215,700.00  26,401,505.00  4,099,724,116.00    SERVICES   \n",
       "0          0.00           0.00               NaN        None   \n",
       "\n",
       "                    sub_sector         market_cap  vs_last_month  \n",
       "26                    PROPERTY 970,342,184,918.40           0.04  \n",
       "27          TELECOMMUNICATIONS 277,847,726,650.00           0.01  \n",
       "28  FOOD, BEVERAGE AND TOBACCO 241,392,477,651.20          -0.11  \n",
       "29                      RETAIL  88,349,054,699.80          -0.02  \n",
       "0                         None                NaN           0.02  "
      ]
     },
     "execution_count": 30,
     "metadata": {},
     "output_type": "execute_result"
    }
   ],
   "source": [
    "df_stock_today.tail()"
   ]
  },
  {
   "cell_type": "code",
   "execution_count": 31,
   "metadata": {},
   "outputs": [
    {
     "name": "stderr",
     "output_type": "stream",
     "text": [
      "C:\\Users\\Administrator\\AppData\\Local\\Temp\\ipykernel_3152\\2969861299.py:4: UserWarning: set_ticklabels() should only be used with a fixed number of ticks, i.e. after set_ticks() or using a FixedLocator.\n",
      "  g.set_yticklabels(ylabels)\n"
     ]
    },
    {
     "data": {
      "text/plain": [
       "[Text(0, -0.15000000000000002, '-0.15%'),\n",
       " Text(0, -0.10000000000000002, '-0.10%'),\n",
       " Text(0, -0.05000000000000002, '-0.05%'),\n",
       " Text(0, 0.0, '0.00%'),\n",
       " Text(0, 0.04999999999999999, '0.05%'),\n",
       " Text(0, 0.09999999999999998, '0.10%'),\n",
       " Text(0, 0.15000000000000002, '0.15%'),\n",
       " Text(0, 0.2, '0.20%')]"
      ]
     },
     "execution_count": 31,
     "metadata": {},
     "output_type": "execute_result"
    },
    {
     "data": {
      "image/png": "[encoded data removed]",
      "text/plain": [
       "<Figure size 640x480 with 1 Axes>"
      ]
     },
     "metadata": {},
     "output_type": "display_data"
    }
   ],
   "source": [
    "g = sns.barplot(data=df_stock_today, x=\"company\", y=\"vs_last_month\", hue=\"company\")\n",
    "plt.xticks(rotation=90)\n",
    "ylabels = ['{:.2f}'.format(x) + '%' for x in g.get_yticks()]\n",
    "g.set_yticklabels(ylabels)\n"
   ]
  }
 ],
 "metadata": {
  "kernelspec": {
   "display_name": "venv",
   "language": "python",
   "name": "python3"
  },
  "language_info": {
   "codemirror_mode": {
    "name": "ipython",
    "version": 3
   },
   "file_extension": ".py",
   "mimetype": "text/x-python",
   "name": "python",
   "nbconvert_exporter": "python",
   "pygments_lexer": "ipython3",
   "version": "3.10.11"
  },
  "orig_nbformat": 4
 },
 "nbformat": 4,
 "nbformat_minor": 2
}
